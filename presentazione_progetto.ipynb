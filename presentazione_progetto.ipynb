{
 "cells": [
  {
   "cell_type": "code",
   "execution_count": 18,
   "id": "da4653d3-521a-4a90-b4a5-1cc0e66565cd",
   "metadata": {
    "editable": true,
    "slideshow": {
     "slide_type": "slide"
    },
    "tags": []
   },
   "outputs": [
    {
     "data": {
      "text/html": [
       "<link rel=\"stylesheet\" href=\"presentazione.css\" type=\"text/css\" />\n"
      ],
      "text/plain": [
       "<IPython.core.display.HTML object>"
      ]
     },
     "metadata": {},
     "output_type": "display_data"
    }
   ],
   "source": [
    "%%HTML\n",
    "<link rel=\"stylesheet\" href=\"presentazione.css\" type=\"text/css\" />"
   ]
  },
  {
   "cell_type": "markdown",
   "id": "4ea5b6cd-55f4-4cf2-a11c-acfe25864de2",
   "metadata": {
    "editable": true,
    "slideshow": {
     "slide_type": ""
    },
    "tags": []
   },
   "source": [
    "<div class=\"logo-container\">\n",
    "    <img class=\"uni-logo\" src=\"imgs/presentazione/pollo.jpg\"/>\n",
    "    <span class=\"testatina\">Università degli Studi di Udine</span>\n",
    "</div>\n",
    "\n",
    "\n",
    "    \n",
    "Progetto di Fondamenti di Scienze dei Dati\n",
    "    \n",
    "# Analisi dei corrispettivi dell'azienda *Là di Cjastelan*\n",
    "    \n",
    "Dario Gaudiuso - 15 luglio 2025"
   ]
  },
  {
   "cell_type": "markdown",
   "id": "fd9ed8cd-e882-4f9d-bab9-448ddaf6bf8e",
   "metadata": {
    "editable": true,
    "slideshow": {
     "slide_type": "slide"
    },
    "tags": []
   },
   "source": [
    "# Introduzione"
   ]
  },
  {
   "cell_type": "markdown",
   "id": "ce3053fd-dab1-4506-afcd-3cb9499b105a",
   "metadata": {
    "editable": true,
    "slideshow": {
     "slide_type": "slide"
    },
    "tags": []
   },
   "source": [
    "## L'azienda"
   ]
  },
  {
   "cell_type": "markdown",
   "id": "e751002d-0d03-4a99-b74b-a0af016cb6b1",
   "metadata": {
    "editable": true,
    "slideshow": {
     "slide_type": "subslide"
    },
    "tags": []
   },
   "source": [
    "<img src=\"imgs/presentazione/logo.png\" id=\"logo\">\n",
    "\n",
    "- Piccola azienda agricola di S. Osvaldo, Udine a conduzione famigliare\n",
    "- In attività storicamente dal 1870, dal 2007 nella forma attuale"
   ]
  },
  {
   "cell_type": "markdown",
   "id": "8c1fe422-f229-41c8-99d1-d854bbea226a",
   "metadata": {
    "editable": true,
    "slideshow": {
     "slide_type": "subslide"
    },
    "tags": []
   },
   "source": [
    "### I prodotti\n",
    "\n",
    "<ul id=\"prodotti-carousel\">\n",
    "    <li class=\"reset\">\n",
    "        <img src=\"imgs/presentazione/budino-cioccolato.jpeg\" />\n",
    "        <img src=\"imgs/presentazione/yogurt.JPG\" />\n",
    "    </li>\n",
    "    <li class=\"reset\">\n",
    "        <img src=\"imgs/presentazione/cac_peperoncino2.JPG\" />\n",
    "        <img src=\"imgs/presentazione/salame.jpeg\" />\n",
    "    </li>\n",
    "    <li class=\"reset\">\n",
    "        <img src=\"imgs/presentazione/mozzarella.jpeg\" />\n",
    "        <img src=\"imgs/presentazione/carne_maiale.jpeg\" />\n",
    "    </li>\n",
    "    <li class=\"reset\">\n",
    "        <img src=\"imgs/presentazione/salsiccia.jpeg\" />\n",
    "        <img src=\"imgs/presentazione/ricotta.JPG\" />\n",
    "    </li>\n",
    "</ul>"
   ]
  },
  {
   "cell_type": "markdown",
   "id": "4e700d91-1110-4919-ad1b-c6e95e4b26a1",
   "metadata": {
    "editable": true,
    "slideshow": {
     "slide_type": "subslide"
    },
    "tags": []
   },
   "source": [
    "### I mercati\n",
    "\n",
    "<img src=\"imgs/presentazione/bancarella.jpeg\" id=\"img-bancarella\"/>\n"
   ]
  },
  {
   "cell_type": "markdown",
   "id": "55714793-bcbf-45a6-be1b-39158720f959",
   "metadata": {
    "editable": true,
    "slideshow": {
     "slide_type": "subslide"
    },
    "tags": []
   },
   "source": [
    "### e le persone\n",
    "\n",
    "<img src=\"imgs/presentazione/trattori.jpeg\" />"
   ]
  },
  {
   "cell_type": "markdown",
   "id": "fd620488-eaa8-41d8-b1ad-f0e454348baf",
   "metadata": {
    "editable": true,
    "slideshow": {
     "slide_type": "slide"
    },
    "tags": []
   },
   "source": [
    "## I dati"
   ]
  },
  {
   "cell_type": "markdown",
   "id": "d4a1131c-6be3-489a-80c0-f72142d55de1",
   "metadata": {
    "editable": true,
    "slideshow": {
     "slide_type": "subslide"
    },
    "tags": []
   },
   "source": [
    "### I corrispettivi\n",
    "\n",
    "L'Agenzia delle Entrate richiede che ogni trimestre venga consegnata un'autocertificazione riguardo **i corrispettivi** dei registratori di cassa telematici.\n",
    "\n",
    "**Per ogni cassa** usata dall'azienda, bisogna dichiarare **per ogni giorno** il **totale** incassato in **ciascuna categoria di aliquota IVA**.\n",
    "\n",
    "I prodotti venduti dall'azienda ricadono in **4 categorie**:\n",
    "- **IVA 4%** -> Prodotti agricoli (latte, latticini e formaggi)\n",
    "- **IVA 10% agricola** -> Carne, insaccati e yogurt\n",
    "- **IVA 10% commerciale** -> Trasformati (gelato, budini, dessert, frico, tortelli, ragù...)\n",
    "- **IVA 22%** -> Beni non agricoli (buste, confezioni...)"
   ]
  },
  {
   "cell_type": "markdown",
   "id": "828e4f9b-4353-4082-8103-24944c2ea5d2",
   "metadata": {
    "editable": true,
    "slideshow": {
     "slide_type": "subslide"
    },
    "tags": []
   },
   "source": [
    "### Come sono raccolti i corrispettivi\n",
    "\n",
    "<div class=\"reset\" id=\"corrispettivo-wrapper\">\n",
    "    <div class=\"reset col1\">\n",
    "        <img class=\"reset\" src=\"imgs/presentazione/corrispettivo.jpeg\">\n",
    "        <a href=\"https://www.flaticon.com/free-icons/cow\" title=\"cow icons\">Cow icons created by surang - Flaticon</a>\n",
    "    </div>\n",
    "\n",
    "  <ul class=\"reset\">\n",
    "      <li>fino al <strong>2017</strong> una singola persona compilava un'<strong>autodichiarazione cartacea</strong>, sommando manualmente tutti gli scontrini</li>\n",
    "      <li>da <strong>gennaio 2018</strong> ad <strong>aprile 2024</strong> l'autodichiarazione viene consegnata in <i>pdf</i>, esportando <strong>fogli elettronici</strong> (Excel) in cui vengono ricopiati manualmente i corrispettivi da una singola persona</li>\n",
    "  </ul>\n",
    "</div>\n",
    "\n"
   ]
  },
  {
   "attachments": {},
   "cell_type": "markdown",
   "id": "f922dd72-c440-4eda-91a0-37e1d47894c7",
   "metadata": {
    "editable": true,
    "slideshow": {
     "slide_type": "subslide"
    },
    "tags": []
   },
   "source": [
    "da **aprile 2024** a oggi si esporta sempre il solito modello Excel, ma con l'ausilio di un **Google Form**, compilato da chi ha svolto il mercato (il processo però **resta manuale**)\n",
    "\n",
    "<img src=\"imgs/presentazione/gform.jpeg\" id=\"img-gform\" />"
   ]
  },
  {
   "cell_type": "markdown",
   "id": "1b64d090-9626-44a4-b34c-c414745f69e5",
   "metadata": {
    "editable": true,
    "slideshow": {
     "slide_type": "subslide"
    },
    "tags": []
   },
   "source": [
    "### I reparti\n",
    "\n",
    "Sono suddivisioni del corrispettivo decise internamente dall'azienda. Nel nostro caso, tutte le casse hanno gli stessi **5 reparti**:\n",
    "- **Reparto 1** -> Formaggi e latticini\n",
    "- **Reparto 2** -> Carne e insaccati\n",
    "- **Reparto 3** -> Yogurt\n",
    "- **Reparto 4** -> Trasformati\n",
    "- **Reparto 5** -> Altro (non agricolo)"
   ]
  },
  {
   "cell_type": "markdown",
   "id": "9a1794b6-b7fb-4c4e-b3af-a0684d1fbe09",
   "metadata": {
    "editable": true,
    "slideshow": {
     "slide_type": "subslide"
    },
    "tags": []
   },
   "source": [
    "### Perché studiarli?\n",
    "\n",
    "Studiare i corrispettivi giornalieri, nella forma in cui sono raccolti, ci permetterebbe di indagare l'**andamento complessivo dell'azienda**, rispondendo a domande come:\n",
    "1. L'azienda è in crescita o meno?\n",
    "2. C'è stagionalità nelle vendite, cioè ci sono periodi in cui si vende meglio?\n",
    "3. Quali prodotti portano più entrate?\n",
    "\n",
    "Da **aprile 2024** abbiamo anche disponibile l'informazione su **ciascun mercato**, il che, oltre a permetterci di studiare le caratteristiche dei mercati stessi, ci permette di fare **analisi comparate** per capire se:\n",
    "\n",
    "4. Ci sono mercati che vanno meglio degli altri?\n",
    "5. Ci sono prodotti che si vendono meglio su un mercato, rispetto agli altri?"
   ]
  },
  {
   "cell_type": "markdown",
   "id": "b232bb22-c45b-49b7-8fdd-5d803a7902e7",
   "metadata": {
    "editable": true,
    "slideshow": {
     "slide_type": "slide"
    },
    "tags": []
   },
   "source": [
    "# I dataset:<br>importazione e pulizia dei dati"
   ]
  }
 ],
 "metadata": {
  "kernelspec": {
   "display_name": "Python 3 (ipykernel)",
   "language": "python",
   "name": "python3"
  },
  "language_info": {
   "codemirror_mode": {
    "name": "ipython",
    "version": 3
   },
   "file_extension": ".py",
   "mimetype": "text/x-python",
   "name": "python",
   "nbconvert_exporter": "python",
   "pygments_lexer": "ipython3",
   "version": "3.10.12"
  }
 },
 "nbformat": 4,
 "nbformat_minor": 5
}
