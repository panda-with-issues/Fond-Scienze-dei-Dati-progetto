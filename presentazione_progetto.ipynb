{
 "cells": [
  {
   "cell_type": "code",
   "execution_count": 17,
   "id": "da4653d3-521a-4a90-b4a5-1cc0e66565cd",
   "metadata": {
    "editable": true,
    "slideshow": {
     "slide_type": "slide"
    },
    "tags": []
   },
   "outputs": [
    {
     "data": {
      "text/html": [
       "<link rel=\"stylesheet\" href=\"presentazione.css\" type=\"text/css\" />\n"
      ],
      "text/plain": [
       "<IPython.core.display.HTML object>"
      ]
     },
     "metadata": {},
     "output_type": "display_data"
    }
   ],
   "source": [
    "%%HTML\n",
    "<link rel=\"stylesheet\" href=\"presentazione.css\" type=\"text/css\" />"
   ]
  },
  {
   "cell_type": "markdown",
   "id": "4ea5b6cd-55f4-4cf2-a11c-acfe25864de2",
   "metadata": {
    "editable": true,
    "slideshow": {
     "slide_type": ""
    },
    "tags": []
   },
   "source": [
    "<div class=\"logo-container\">\n",
    "    <img class=\"uni-logo\" src=\"imgs/presentazione/pollo.jpg\"/>\n",
    "    <span class=\"testatina\">Università degli Studi di Udine</span>\n",
    "</div>\n",
    "\n",
    "\n",
    "    \n",
    "Progetto di Fondamenti di Scienze dei Dati\n",
    "    \n",
    "# Analisi dei corrispettivi dell'azienda *Là di Cjastelan*\n",
    "    \n",
    "Dario Gaudiuso - 15 luglio 2025"
   ]
  },
  {
   "cell_type": "markdown",
   "id": "fd9ed8cd-e882-4f9d-bab9-448ddaf6bf8e",
   "metadata": {
    "editable": true,
    "slideshow": {
     "slide_type": "slide"
    },
    "tags": []
   },
   "source": [
    "# Introduzione"
   ]
  },
  {
   "cell_type": "markdown",
   "id": "ce3053fd-dab1-4506-afcd-3cb9499b105a",
   "metadata": {
    "editable": true,
    "slideshow": {
     "slide_type": "slide"
    },
    "tags": []
   },
   "source": [
    "## L'azienda\n",
    "<img src=\"imgs/presentazione/logo.png\" id=\"logo\">\n",
    "\n",
    "- Piccola azienda agricola di S. Osvaldo, Udine a conduzione famigliare\n",
    "- In attività storicamente dal 1870, dal 2007 nella forma attuale"
   ]
  },
  {
   "cell_type": "markdown",
   "id": "8c1fe422-f229-41c8-99d1-d854bbea226a",
   "metadata": {
    "editable": true,
    "slideshow": {
     "slide_type": "subslide"
    },
    "tags": []
   },
   "source": [
    "### I prodotti\n",
    "\n",
    "<ul id=\"prodotti-carousel\">\n",
    "    <li class=\"reset\">\n",
    "        <img src=\"imgs/presentazione/budino-cioccolato.jpeg\" />\n",
    "        <img src=\"imgs/presentazione/yogurt.JPG\" />\n",
    "    </li>\n",
    "    <li class=\"reset\">\n",
    "        <img src=\"imgs/presentazione/cac_peperoncino2.JPG\" />\n",
    "        <img src=\"imgs/presentazione/salame.jpeg\" />\n",
    "    </li>\n",
    "    <li class=\"reset\">\n",
    "        <img src=\"imgs/presentazione/mozzarella.jpeg\" />\n",
    "        <img src=\"imgs/presentazione/carne_maiale.jpeg\" />\n",
    "    </li>\n",
    "    <li class=\"reset\">\n",
    "        <img src=\"imgs/presentazione/salsiccia.jpeg\" />\n",
    "        <img src=\"imgs/presentazione/ricotta.JPG\" />\n",
    "    </li>\n",
    "</ul>"
   ]
  },
  {
   "cell_type": "markdown",
   "id": "55714793-bcbf-45a6-be1b-39158720f959",
   "metadata": {
    "editable": true,
    "slideshow": {
     "slide_type": ""
    },
    "tags": []
   },
   "source": [
    "### e le persone\n",
    "\n",
    "<img src=\"imgs/presentazione/trattori.jpeg\" />"
   ]
  },
  {
   "cell_type": "markdown",
   "id": "fd620488-eaa8-41d8-b1ad-f0e454348baf",
   "metadata": {
    "editable": true,
    "slideshow": {
     "slide_type": "slide"
    },
    "tags": []
   },
   "source": [
    "# I dati"
   ]
  },
  {
   "cell_type": "markdown",
   "id": "d4a1131c-6be3-489a-80c0-f72142d55de1",
   "metadata": {
    "editable": true,
    "slideshow": {
     "slide_type": "subslide"
    },
    "tags": []
   },
   "source": [
    "L'Agenzia delle Entrate richiede che ogni trimestre venga consegnata un'autocertificazione riguardo **i corrispettivi** dei registratori di cassa telematici.\n",
    "\n",
    "Cioè **per ogni cassa** usata dall'azienda, bisogna dichiarare **per ogni giorno** il totale incassato in **ciascuna categoria di aliquota IVA**.\n",
    "\n",
    "I prodotti venduti dall'azienda ricadono in **4 categorie**:\n",
    "- **IVA 4%** -> Prodotti agricoli (latte, latticini e formaggi)\n",
    "- **IVA 10%** -> Carne (inclusi salumi)\n",
    "- **IVA 10% commerciale** -> Trasformati (yogurt, gelato, budini, dessert, frico, tortelli, ragù...)\n",
    "- **IVA 22%** -> Beni non agricoli (buste, confezioni...)"
   ]
  },
  {
   "cell_type": "code",
   "execution_count": null,
   "id": "ed3acea8-70b4-40b0-8da7-3ab6175a511a",
   "metadata": {
    "editable": true,
    "slideshow": {
     "slide_type": ""
    },
    "tags": []
   },
   "outputs": [],
   "source": []
  }
 ],
 "metadata": {
  "kernelspec": {
   "display_name": "Python 3 (ipykernel)",
   "language": "python",
   "name": "python3"
  },
  "language_info": {
   "codemirror_mode": {
    "name": "ipython",
    "version": 3
   },
   "file_extension": ".py",
   "mimetype": "text/x-python",
   "name": "python",
   "nbconvert_exporter": "python",
   "pygments_lexer": "ipython3",
   "version": "3.10.12"
  }
 },
 "nbformat": 4,
 "nbformat_minor": 5
}
